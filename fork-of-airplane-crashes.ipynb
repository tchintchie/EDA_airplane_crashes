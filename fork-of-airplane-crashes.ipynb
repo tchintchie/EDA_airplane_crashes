{
 "cells": [
  {
   "cell_type": "code",
   "execution_count": 1,
   "metadata": {
    "_cell_guid": "b1076dfc-b9ad-4769-8c92-a6c4dae69d19",
    "_uuid": "8f2839f25d086af736a60e9eeb907d3b93b6e0e5"
   },
   "outputs": [
    {
     "name": "stdout",
     "output_type": "stream",
     "text": [
      "/kaggle/input/airplane-crashes-since-1908/Airplane_Crashes_and_Fatalities_Since_1908.csv\n"
     ]
    }
   ],
   "source": [
    "# This Python 3 environment comes with many helpful analytics libraries installed\n",
    "# It is defined by the kaggle/python docker image: https://github.com/kaggle/docker-python\n",
    "# For example, here's several helpful packages to load in \n",
    "\n",
    "import numpy as np # linear algebra\n",
    "import pandas as pd # data processing, CSV file I/O (e.g. pd.read_csv)\n",
    "import matplotlib.pyplot as plt\n",
    "import seaborn as sns\n",
    "import datetime as dt\n",
    "from collections import Counter\n",
    "%matplotlib inline\n",
    "\n",
    "# Input data files are available in the \"../input/\" directory.\n",
    "# For example, running this (by clicking run or pressing Shift+Enter) will list all files under the input directory\n",
    "\n",
    "import os\n",
    "for dirname, _, filenames in os.walk('/kaggle/input'):\n",
    "    for filename in filenames:\n",
    "        print(os.path.join(dirname, filename))\n",
    "\n",
    "# Any results you write to the current directory are saved as output."
   ]
  },
  {
   "cell_type": "markdown",
   "metadata": {},
   "source": [
    "# Reading in the dataset"
   ]
  },
  {
   "cell_type": "code",
   "execution_count": 2,
   "metadata": {
    "_cell_guid": "79c7e3d0-c299-4dcb-8224-4455121ee9b0",
    "_uuid": "d629ff2d2480ee46fbb7e2d37f6b5fab8052498a"
   },
   "outputs": [
    {
     "data": {
      "text/html": [
       "<div>\n",
       "<style scoped>\n",
       "    .dataframe tbody tr th:only-of-type {\n",
       "        vertical-align: middle;\n",
       "    }\n",
       "\n",
       "    .dataframe tbody tr th {\n",
       "        vertical-align: top;\n",
       "    }\n",
       "\n",
       "    .dataframe thead th {\n",
       "        text-align: right;\n",
       "    }\n",
       "</style>\n",
       "<table border=\"1\" class=\"dataframe\">\n",
       "  <thead>\n",
       "    <tr style=\"text-align: right;\">\n",
       "      <th></th>\n",
       "      <th>Date</th>\n",
       "      <th>Time</th>\n",
       "      <th>Location</th>\n",
       "      <th>Operator</th>\n",
       "      <th>Flight #</th>\n",
       "      <th>Route</th>\n",
       "      <th>Type</th>\n",
       "      <th>Registration</th>\n",
       "      <th>cn/In</th>\n",
       "      <th>Aboard</th>\n",
       "      <th>Fatalities</th>\n",
       "      <th>Ground</th>\n",
       "      <th>Summary</th>\n",
       "    </tr>\n",
       "  </thead>\n",
       "  <tbody>\n",
       "    <tr>\n",
       "      <th>0</th>\n",
       "      <td>09/17/1908</td>\n",
       "      <td>17:18</td>\n",
       "      <td>Fort Myer, Virginia</td>\n",
       "      <td>Military - U.S. Army</td>\n",
       "      <td>NaN</td>\n",
       "      <td>Demonstration</td>\n",
       "      <td>Wright Flyer III</td>\n",
       "      <td>NaN</td>\n",
       "      <td>1</td>\n",
       "      <td>2.0</td>\n",
       "      <td>1.0</td>\n",
       "      <td>0.0</td>\n",
       "      <td>During a demonstration flight, a U.S. Army fly...</td>\n",
       "    </tr>\n",
       "    <tr>\n",
       "      <th>1</th>\n",
       "      <td>07/12/1912</td>\n",
       "      <td>06:30</td>\n",
       "      <td>AtlantiCity, New Jersey</td>\n",
       "      <td>Military - U.S. Navy</td>\n",
       "      <td>NaN</td>\n",
       "      <td>Test flight</td>\n",
       "      <td>Dirigible</td>\n",
       "      <td>NaN</td>\n",
       "      <td>NaN</td>\n",
       "      <td>5.0</td>\n",
       "      <td>5.0</td>\n",
       "      <td>0.0</td>\n",
       "      <td>First U.S. dirigible Akron exploded just offsh...</td>\n",
       "    </tr>\n",
       "    <tr>\n",
       "      <th>2</th>\n",
       "      <td>08/06/1913</td>\n",
       "      <td>NaN</td>\n",
       "      <td>Victoria, British Columbia, Canada</td>\n",
       "      <td>Private</td>\n",
       "      <td>-</td>\n",
       "      <td>NaN</td>\n",
       "      <td>Curtiss seaplane</td>\n",
       "      <td>NaN</td>\n",
       "      <td>NaN</td>\n",
       "      <td>1.0</td>\n",
       "      <td>1.0</td>\n",
       "      <td>0.0</td>\n",
       "      <td>The first fatal airplane accident in Canada oc...</td>\n",
       "    </tr>\n",
       "    <tr>\n",
       "      <th>3</th>\n",
       "      <td>09/09/1913</td>\n",
       "      <td>18:30</td>\n",
       "      <td>Over the North Sea</td>\n",
       "      <td>Military - German Navy</td>\n",
       "      <td>NaN</td>\n",
       "      <td>NaN</td>\n",
       "      <td>Zeppelin L-1 (airship)</td>\n",
       "      <td>NaN</td>\n",
       "      <td>NaN</td>\n",
       "      <td>20.0</td>\n",
       "      <td>14.0</td>\n",
       "      <td>0.0</td>\n",
       "      <td>The airship flew into a thunderstorm and encou...</td>\n",
       "    </tr>\n",
       "    <tr>\n",
       "      <th>4</th>\n",
       "      <td>10/17/1913</td>\n",
       "      <td>10:30</td>\n",
       "      <td>Near Johannisthal, Germany</td>\n",
       "      <td>Military - German Navy</td>\n",
       "      <td>NaN</td>\n",
       "      <td>NaN</td>\n",
       "      <td>Zeppelin L-2 (airship)</td>\n",
       "      <td>NaN</td>\n",
       "      <td>NaN</td>\n",
       "      <td>30.0</td>\n",
       "      <td>30.0</td>\n",
       "      <td>0.0</td>\n",
       "      <td>Hydrogen gas which was being vented was sucked...</td>\n",
       "    </tr>\n",
       "  </tbody>\n",
       "</table>\n",
       "</div>"
      ],
      "text/plain": [
       "         Date   Time                            Location  \\\n",
       "0  09/17/1908  17:18                 Fort Myer, Virginia   \n",
       "1  07/12/1912  06:30             AtlantiCity, New Jersey   \n",
       "2  08/06/1913    NaN  Victoria, British Columbia, Canada   \n",
       "3  09/09/1913  18:30                  Over the North Sea   \n",
       "4  10/17/1913  10:30          Near Johannisthal, Germany   \n",
       "\n",
       "                 Operator Flight #          Route                    Type  \\\n",
       "0    Military - U.S. Army      NaN  Demonstration        Wright Flyer III   \n",
       "1    Military - U.S. Navy      NaN    Test flight               Dirigible   \n",
       "2                 Private        -            NaN        Curtiss seaplane   \n",
       "3  Military - German Navy      NaN            NaN  Zeppelin L-1 (airship)   \n",
       "4  Military - German Navy      NaN            NaN  Zeppelin L-2 (airship)   \n",
       "\n",
       "  Registration cn/In  Aboard  Fatalities  Ground  \\\n",
       "0          NaN     1     2.0         1.0     0.0   \n",
       "1          NaN   NaN     5.0         5.0     0.0   \n",
       "2          NaN   NaN     1.0         1.0     0.0   \n",
       "3          NaN   NaN    20.0        14.0     0.0   \n",
       "4          NaN   NaN    30.0        30.0     0.0   \n",
       "\n",
       "                                             Summary  \n",
       "0  During a demonstration flight, a U.S. Army fly...  \n",
       "1  First U.S. dirigible Akron exploded just offsh...  \n",
       "2  The first fatal airplane accident in Canada oc...  \n",
       "3  The airship flew into a thunderstorm and encou...  \n",
       "4  Hydrogen gas which was being vented was sucked...  "
      ]
     },
     "execution_count": 2,
     "metadata": {},
     "output_type": "execute_result"
    }
   ],
   "source": [
    "df = pd.read_csv(\"/kaggle/input/airplane-crashes-since-1908/Airplane_Crashes_and_Fatalities_Since_1908.csv\")\n",
    "df.head()"
   ]
  },
  {
   "cell_type": "markdown",
   "metadata": {},
   "source": [
    "# Objective:\n",
    "I´d like to analyze and predict airplane crashes and the likelihood of surviving such a crash (although I couldn´t find any data on passenger seating so far). Goal is to answer the question wether flying really is the safest way to travel."
   ]
  },
  {
   "cell_type": "markdown",
   "metadata": {},
   "source": [
    "# 1. data cleaning:\n",
    "# 1.1. remove columns with 80 ore more percent of Null-values"
   ]
  },
  {
   "cell_type": "code",
   "execution_count": 3,
   "metadata": {},
   "outputs": [
    {
     "name": "stdout",
     "output_type": "stream",
     "text": [
      "<class 'pandas.core.frame.DataFrame'>\n",
      "RangeIndex: 5268 entries, 0 to 5267\n",
      "Data columns (total 13 columns):\n",
      "Date            5268 non-null object\n",
      "Time            3049 non-null object\n",
      "Location        5248 non-null object\n",
      "Operator        5250 non-null object\n",
      "Flight #        1069 non-null object\n",
      "Route           3562 non-null object\n",
      "Type            5241 non-null object\n",
      "Registration    4933 non-null object\n",
      "cn/In           4040 non-null object\n",
      "Aboard          5246 non-null float64\n",
      "Fatalities      5256 non-null float64\n",
      "Ground          5246 non-null float64\n",
      "Summary         4878 non-null object\n",
      "dtypes: float64(3), object(10)\n",
      "memory usage: 535.2+ KB\n"
     ]
    },
    {
     "data": {
      "text/plain": [
       "1054"
      ]
     },
     "execution_count": 3,
     "metadata": {},
     "output_type": "execute_result"
    }
   ],
   "source": [
    "df.info() #5268 rows\n",
    "5268*0.8 #4214 rows needed at least\n",
    "5268 - 4214 #1054 <- breakpoint for non-null cols to delete:\n",
    "# cols to delete:\n",
    "# Flight # --> 1069 non-null cols (close call!)\n",
    "# no cols to delete!"
   ]
  },
  {
   "cell_type": "markdown",
   "metadata": {},
   "source": [
    "No columns to delte, although `Flight #` was a close call"
   ]
  },
  {
   "cell_type": "markdown",
   "metadata": {},
   "source": [
    "# 1.2: check the `Ground` column to see if it only contains `0` and `1`. If so convert it to a Boolean type"
   ]
  },
  {
   "cell_type": "code",
   "execution_count": 4,
   "metadata": {},
   "outputs": [
    {
     "data": {
      "text/plain": [
       "51"
      ]
     },
     "execution_count": 4,
     "metadata": {},
     "output_type": "execute_result"
    }
   ],
   "source": [
    "len(df.Ground.unique())"
   ]
  },
  {
   "cell_type": "markdown",
   "metadata": {},
   "source": [
    "## there are 51 unique values in the `Ground` column. Unfortunately the dataset doesn´t provide information about this column and it´s values"
   ]
  },
  {
   "cell_type": "markdown",
   "metadata": {},
   "source": [
    "# questions to answer:\n",
    "# 2.1: on avg. how many plane crashes happen per year?"
   ]
  },
  {
   "cell_type": "code",
   "execution_count": 5,
   "metadata": {},
   "outputs": [
    {
     "name": "stdout",
     "output_type": "stream",
     "text": [
      "<class 'pandas.core.frame.DataFrame'>\n",
      "RangeIndex: 5268 entries, 0 to 5267\n",
      "Data columns (total 13 columns):\n",
      "Date            5268 non-null datetime64[ns]\n",
      "Time            3049 non-null object\n",
      "Location        5248 non-null object\n",
      "Operator        5250 non-null object\n",
      "Flight #        1069 non-null object\n",
      "Route           3562 non-null object\n",
      "Type            5241 non-null object\n",
      "Registration    4933 non-null object\n",
      "cn/In           4040 non-null object\n",
      "Aboard          5246 non-null float64\n",
      "Fatalities      5256 non-null float64\n",
      "Ground          5246 non-null float64\n",
      "Summary         4878 non-null object\n",
      "dtypes: datetime64[ns](1), float64(3), object(9)\n",
      "memory usage: 535.2+ KB\n"
     ]
    }
   ],
   "source": [
    "#converting the Date column to datetime Object:\n",
    "\n",
    "df[\"Date\"] = pd.to_datetime(df.Date).copy()\n",
    "df.info()"
   ]
  },
  {
   "cell_type": "code",
   "execution_count": 6,
   "metadata": {},
   "outputs": [
    {
     "data": {
      "text/plain": [
       "53.755102040816325"
      ]
     },
     "execution_count": 6,
     "metadata": {},
     "output_type": "execute_result"
    }
   ],
   "source": [
    "df.Date.dt.year.value_counts() # 98 years were documented\n",
    "yearly_avg_crashes = len(df.Date)/98\n",
    "yearly_avg_crashes"
   ]
  },
  {
   "cell_type": "markdown",
   "metadata": {},
   "source": [
    "## on avg. there occured 53 crashes each year. However we need to take into consideration, that as time progressed the number of flights also increased! Thus the Average is pretty skewed."
   ]
  },
  {
   "cell_type": "markdown",
   "metadata": {},
   "source": [
    "## 2.1.1: which year was the one with the least/most crashes?"
   ]
  },
  {
   "cell_type": "code",
   "execution_count": 7,
   "metadata": {},
   "outputs": [
    {
     "data": {
      "text/plain": [
       "1972    104\n",
       "1968     96\n",
       "1989     95\n",
       "1967     91\n",
       "1973     89\n",
       "       ... \n",
       "1918      4\n",
       "1913      3\n",
       "1915      2\n",
       "1912      1\n",
       "1908      1\n",
       "Name: Date, Length: 98, dtype: int64"
      ]
     },
     "execution_count": 7,
     "metadata": {},
     "output_type": "execute_result"
    }
   ],
   "source": [
    "df.Date.dt.year.value_counts(ascending=False, sort=True)"
   ]
  },
  {
   "cell_type": "markdown",
   "metadata": {},
   "source": [
    "## 1908 and 1912 were the years with the least (only 1) crashes --> to no surprise, since aviation was still in it´s infancy then\n",
    "## 1972 was the year with the most crashes (104)"
   ]
  },
  {
   "cell_type": "markdown",
   "metadata": {},
   "source": [
    "# 2.2: on avg. how many months are in between crashes?"
   ]
  },
  {
   "cell_type": "code",
   "execution_count": 8,
   "metadata": {},
   "outputs": [
    {
     "data": {
      "text/plain": [
       "Timedelta('6 days 23:38:07.677995')"
      ]
     },
     "execution_count": 8,
     "metadata": {},
     "output_type": "execute_result"
    }
   ],
   "source": [
    "# sort dataframe by Date:\n",
    "df.sort_values(by=['Date'], ascending=True)\n",
    "\n",
    "# create new column for the timedelta:\n",
    "df[\"Time between crashes\"] = df.Date.diff()\n",
    "df.head()\n",
    "\n",
    "# calculate the average of the new column:\n",
    "df[\"Time between crashes\"].mean()"
   ]
  },
  {
   "cell_type": "markdown",
   "metadata": {},
   "source": [
    "## On average a plane crashes every 6-7 days"
   ]
  },
  {
   "cell_type": "markdown",
   "metadata": {},
   "source": [
    "## 2.2.1: what was the longest period in between crashes?"
   ]
  },
  {
   "cell_type": "code",
   "execution_count": 9,
   "metadata": {},
   "outputs": [
    {
     "data": {
      "text/plain": [
       "3.819178082191781"
      ]
     },
     "execution_count": 9,
     "metadata": {},
     "output_type": "execute_result"
    }
   ],
   "source": [
    "# sort dataframe by Date:\n",
    "df.sort_values(by=['Date'], ascending=True)\n",
    "df[\"Time between crashes\"].max() # max crash-free days was 1394\n",
    "# convert 1394 days to years:\n",
    "years_between_crashes = 1394/365\n",
    "years_between_crashes"
   ]
  },
  {
   "cell_type": "markdown",
   "metadata": {},
   "source": [
    "## the longest period in between crashes was 1394 days or almost 4 years!"
   ]
  },
  {
   "cell_type": "code",
   "execution_count": 10,
   "metadata": {},
   "outputs": [
    {
     "data": {
      "text/html": [
       "<div>\n",
       "<style scoped>\n",
       "    .dataframe tbody tr th:only-of-type {\n",
       "        vertical-align: middle;\n",
       "    }\n",
       "\n",
       "    .dataframe tbody tr th {\n",
       "        vertical-align: top;\n",
       "    }\n",
       "\n",
       "    .dataframe thead th {\n",
       "        text-align: right;\n",
       "    }\n",
       "</style>\n",
       "<table border=\"1\" class=\"dataframe\">\n",
       "  <thead>\n",
       "    <tr style=\"text-align: right;\">\n",
       "      <th></th>\n",
       "      <th>Date</th>\n",
       "      <th>Time</th>\n",
       "      <th>Location</th>\n",
       "      <th>Operator</th>\n",
       "      <th>Flight #</th>\n",
       "      <th>Route</th>\n",
       "      <th>Type</th>\n",
       "      <th>Registration</th>\n",
       "      <th>cn/In</th>\n",
       "      <th>Aboard</th>\n",
       "      <th>Fatalities</th>\n",
       "      <th>Ground</th>\n",
       "      <th>Summary</th>\n",
       "      <th>Time between crashes</th>\n",
       "    </tr>\n",
       "  </thead>\n",
       "  <tbody>\n",
       "    <tr>\n",
       "      <th>0</th>\n",
       "      <td>1908-09-17</td>\n",
       "      <td>17:18</td>\n",
       "      <td>Fort Myer, Virginia</td>\n",
       "      <td>Military - U.S. Army</td>\n",
       "      <td>NaN</td>\n",
       "      <td>Demonstration</td>\n",
       "      <td>Wright Flyer III</td>\n",
       "      <td>NaN</td>\n",
       "      <td>1</td>\n",
       "      <td>2.0</td>\n",
       "      <td>1.0</td>\n",
       "      <td>0.0</td>\n",
       "      <td>During a demonstration flight, a U.S. Army fly...</td>\n",
       "      <td>NaT</td>\n",
       "    </tr>\n",
       "    <tr>\n",
       "      <th>1</th>\n",
       "      <td>1912-07-12</td>\n",
       "      <td>06:30</td>\n",
       "      <td>AtlantiCity, New Jersey</td>\n",
       "      <td>Military - U.S. Navy</td>\n",
       "      <td>NaN</td>\n",
       "      <td>Test flight</td>\n",
       "      <td>Dirigible</td>\n",
       "      <td>NaN</td>\n",
       "      <td>NaN</td>\n",
       "      <td>5.0</td>\n",
       "      <td>5.0</td>\n",
       "      <td>0.0</td>\n",
       "      <td>First U.S. dirigible Akron exploded just offsh...</td>\n",
       "      <td>1394 days</td>\n",
       "    </tr>\n",
       "  </tbody>\n",
       "</table>\n",
       "</div>"
      ],
      "text/plain": [
       "        Date   Time                 Location              Operator Flight #  \\\n",
       "0 1908-09-17  17:18      Fort Myer, Virginia  Military - U.S. Army      NaN   \n",
       "1 1912-07-12  06:30  AtlantiCity, New Jersey  Military - U.S. Navy      NaN   \n",
       "\n",
       "           Route              Type Registration cn/In  Aboard  Fatalities  \\\n",
       "0  Demonstration  Wright Flyer III          NaN     1     2.0         1.0   \n",
       "1    Test flight         Dirigible          NaN   NaN     5.0         5.0   \n",
       "\n",
       "   Ground                                            Summary  \\\n",
       "0     0.0  During a demonstration flight, a U.S. Army fly...   \n",
       "1     0.0  First U.S. dirigible Akron exploded just offsh...   \n",
       "\n",
       "  Time between crashes  \n",
       "0                  NaT  \n",
       "1            1394 days  "
      ]
     },
     "execution_count": 10,
     "metadata": {},
     "output_type": "execute_result"
    }
   ],
   "source": [
    "df[df[\"Time between crashes\"].dt.days==1394] # index 1\n",
    "df[:2]"
   ]
  },
  {
   "cell_type": "markdown",
   "metadata": {},
   "source": [
    "# the longest period between crashes was 1908 - 1912"
   ]
  },
  {
   "cell_type": "markdown",
   "metadata": {},
   "source": [
    "# 2.3: which Operator suffered the most crashes in history?"
   ]
  },
  {
   "cell_type": "code",
   "execution_count": 11,
   "metadata": {},
   "outputs": [
    {
     "data": {
      "text/plain": [
       "Aeroflot                                                  179\n",
       "Military - U.S. Air Force                                 176\n",
       "Air France                                                 70\n",
       "Deutsche Lufthansa                                         65\n",
       "China National Aviation Corporation                        44\n",
       "                                                         ... \n",
       "Aero Eslava                                                 1\n",
       "Winship Air Service                                         1\n",
       "Military - U.S. Air Force / Military -  U.S. Air Force      1\n",
       "MerriAviation - Air Taxi                                    1\n",
       "Blue Wing Airlines                                          1\n",
       "Name: Operator, Length: 2476, dtype: int64"
      ]
     },
     "execution_count": 11,
     "metadata": {},
     "output_type": "execute_result"
    }
   ],
   "source": [
    "df.Operator.value_counts(sort=True, ascending=False)"
   ]
  },
  {
   "cell_type": "markdown",
   "metadata": {},
   "source": [
    "## Aeroflot (179 crashes) and the U.S. Air Force (176 crashes) suffered the most crashes in history. Being Military operators that´s no surprise. The civil operator with the most crashes is Air France"
   ]
  },
  {
   "cell_type": "markdown",
   "metadata": {},
   "source": [
    "# 3.1: from the Route column exract start and destination and create new columns for each"
   ]
  },
  {
   "cell_type": "code",
   "execution_count": 12,
   "metadata": {},
   "outputs": [
    {
     "data": {
      "text/plain": [
       "0"
      ]
     },
     "execution_count": 12,
     "metadata": {},
     "output_type": "execute_result"
    }
   ],
   "source": [
    "df.Route.isnull().sum() # 1706 Null Values\n",
    "df = df.dropna(subset=[\"Route\"])\n",
    "df.Route.isnull().sum()"
   ]
  },
  {
   "cell_type": "code",
   "execution_count": 13,
   "metadata": {},
   "outputs": [
    {
     "data": {
      "text/plain": [
       "0"
      ]
     },
     "execution_count": 13,
     "metadata": {},
     "output_type": "execute_result"
    }
   ],
   "source": [
    "divider = df.Route.str.contains(\"-\")\n",
    "df.Route[divider] # 3362 rows that use \"-\" as divider\n",
    "df.Route[~divider] # 200 rows that don´t use above pattern \n",
    "df.Route.isnull().sum()"
   ]
  },
  {
   "cell_type": "code",
   "execution_count": 14,
   "metadata": {},
   "outputs": [
    {
     "name": "stdout",
     "output_type": "stream",
     "text": [
      "(3562, 6)\n",
      "(3562, 14)\n"
     ]
    },
    {
     "data": {
      "text/html": [
       "<div>\n",
       "<style scoped>\n",
       "    .dataframe tbody tr th:only-of-type {\n",
       "        vertical-align: middle;\n",
       "    }\n",
       "\n",
       "    .dataframe tbody tr th {\n",
       "        vertical-align: top;\n",
       "    }\n",
       "\n",
       "    .dataframe thead th {\n",
       "        text-align: right;\n",
       "    }\n",
       "</style>\n",
       "<table border=\"1\" class=\"dataframe\">\n",
       "  <thead>\n",
       "    <tr style=\"text-align: right;\">\n",
       "      <th></th>\n",
       "      <th>Date</th>\n",
       "      <th>Time</th>\n",
       "      <th>Location</th>\n",
       "      <th>Operator</th>\n",
       "      <th>Flight #</th>\n",
       "      <th>Route</th>\n",
       "      <th>Type</th>\n",
       "      <th>Registration</th>\n",
       "      <th>cn/In</th>\n",
       "      <th>Aboard</th>\n",
       "      <th>Fatalities</th>\n",
       "      <th>Ground</th>\n",
       "      <th>Summary</th>\n",
       "      <th>Time between crashes</th>\n",
       "      <th>Start</th>\n",
       "      <th>Destination</th>\n",
       "      <th>2</th>\n",
       "      <th>3</th>\n",
       "      <th>4</th>\n",
       "      <th>5</th>\n",
       "    </tr>\n",
       "  </thead>\n",
       "  <tbody>\n",
       "    <tr>\n",
       "      <th>0</th>\n",
       "      <td>1908-09-17</td>\n",
       "      <td>17:18</td>\n",
       "      <td>Fort Myer, Virginia</td>\n",
       "      <td>Military - U.S. Army</td>\n",
       "      <td>NaN</td>\n",
       "      <td>Demonstration</td>\n",
       "      <td>Wright Flyer III</td>\n",
       "      <td>NaN</td>\n",
       "      <td>1</td>\n",
       "      <td>2.0</td>\n",
       "      <td>1.0</td>\n",
       "      <td>0.0</td>\n",
       "      <td>During a demonstration flight, a U.S. Army fly...</td>\n",
       "      <td>NaT</td>\n",
       "      <td>Demonstration</td>\n",
       "      <td>None</td>\n",
       "      <td>None</td>\n",
       "      <td>None</td>\n",
       "      <td>None</td>\n",
       "      <td>None</td>\n",
       "    </tr>\n",
       "    <tr>\n",
       "      <th>1</th>\n",
       "      <td>1912-07-12</td>\n",
       "      <td>06:30</td>\n",
       "      <td>AtlantiCity, New Jersey</td>\n",
       "      <td>Military - U.S. Navy</td>\n",
       "      <td>NaN</td>\n",
       "      <td>Test flight</td>\n",
       "      <td>Dirigible</td>\n",
       "      <td>NaN</td>\n",
       "      <td>NaN</td>\n",
       "      <td>5.0</td>\n",
       "      <td>5.0</td>\n",
       "      <td>0.0</td>\n",
       "      <td>First U.S. dirigible Akron exploded just offsh...</td>\n",
       "      <td>1394 days</td>\n",
       "      <td>Test flight</td>\n",
       "      <td>None</td>\n",
       "      <td>None</td>\n",
       "      <td>None</td>\n",
       "      <td>None</td>\n",
       "      <td>None</td>\n",
       "    </tr>\n",
       "    <tr>\n",
       "      <th>56</th>\n",
       "      <td>1921-09-06</td>\n",
       "      <td>NaN</td>\n",
       "      <td>Paris, France</td>\n",
       "      <td>Franco-Roumaine</td>\n",
       "      <td>NaN</td>\n",
       "      <td>Varsovie - Strasbourg - Paris</td>\n",
       "      <td>Potez IX</td>\n",
       "      <td>F-ADCD</td>\n",
       "      <td>160</td>\n",
       "      <td>5.0</td>\n",
       "      <td>5.0</td>\n",
       "      <td>0.0</td>\n",
       "      <td>Crashed while making an approach to Le Bourget...</td>\n",
       "      <td>13 days</td>\n",
       "      <td>Varsovie</td>\n",
       "      <td>Strasbourg</td>\n",
       "      <td>Paris</td>\n",
       "      <td>None</td>\n",
       "      <td>None</td>\n",
       "      <td>None</td>\n",
       "    </tr>\n",
       "    <tr>\n",
       "      <th>80</th>\n",
       "      <td>1923-12-23</td>\n",
       "      <td>02:30</td>\n",
       "      <td>Over the Mediterranean Sea</td>\n",
       "      <td>Military - French Navy</td>\n",
       "      <td>NaN</td>\n",
       "      <td>Toulon - Algiers</td>\n",
       "      <td>Zeppelin Dixmunde (airship)</td>\n",
       "      <td>L-72</td>\n",
       "      <td>NaN</td>\n",
       "      <td>52.0</td>\n",
       "      <td>52.0</td>\n",
       "      <td>0.0</td>\n",
       "      <td>Crashed while on a flight from Toulon, France ...</td>\n",
       "      <td>17 days</td>\n",
       "      <td>Toulon</td>\n",
       "      <td>Algiers</td>\n",
       "      <td>None</td>\n",
       "      <td>None</td>\n",
       "      <td>None</td>\n",
       "      <td>None</td>\n",
       "    </tr>\n",
       "    <tr>\n",
       "      <th>83</th>\n",
       "      <td>1924-04-24</td>\n",
       "      <td>NaN</td>\n",
       "      <td>Over the English Channel</td>\n",
       "      <td>KLM Royal Dutch Airlines</td>\n",
       "      <td>NaN</td>\n",
       "      <td>Lympne, England - Rotterdam, The Netherlands</td>\n",
       "      <td>Fokker F.III</td>\n",
       "      <td>H-NABS</td>\n",
       "      <td>1535</td>\n",
       "      <td>3.0</td>\n",
       "      <td>3.0</td>\n",
       "      <td>0.0</td>\n",
       "      <td>NaN</td>\n",
       "      <td>48 days</td>\n",
       "      <td>Lympne, England</td>\n",
       "      <td>Rotterdam, The Netherlands</td>\n",
       "      <td>None</td>\n",
       "      <td>None</td>\n",
       "      <td>None</td>\n",
       "      <td>None</td>\n",
       "    </tr>\n",
       "  </tbody>\n",
       "</table>\n",
       "</div>"
      ],
      "text/plain": [
       "         Date   Time                    Location                  Operator  \\\n",
       "0  1908-09-17  17:18         Fort Myer, Virginia      Military - U.S. Army   \n",
       "1  1912-07-12  06:30     AtlantiCity, New Jersey      Military - U.S. Navy   \n",
       "56 1921-09-06    NaN               Paris, France           Franco-Roumaine   \n",
       "80 1923-12-23  02:30  Over the Mediterranean Sea    Military - French Navy   \n",
       "83 1924-04-24    NaN    Over the English Channel  KLM Royal Dutch Airlines   \n",
       "\n",
       "   Flight #                                         Route  \\\n",
       "0       NaN                                 Demonstration   \n",
       "1       NaN                                   Test flight   \n",
       "56      NaN                 Varsovie - Strasbourg - Paris   \n",
       "80      NaN                              Toulon - Algiers   \n",
       "83      NaN  Lympne, England - Rotterdam, The Netherlands   \n",
       "\n",
       "                           Type Registration cn/In  Aboard  Fatalities  \\\n",
       "0              Wright Flyer III          NaN     1     2.0         1.0   \n",
       "1                     Dirigible          NaN   NaN     5.0         5.0   \n",
       "56                     Potez IX       F-ADCD   160     5.0         5.0   \n",
       "80  Zeppelin Dixmunde (airship)         L-72   NaN    52.0        52.0   \n",
       "83                 Fokker F.III       H-NABS  1535     3.0         3.0   \n",
       "\n",
       "    Ground                                            Summary  \\\n",
       "0      0.0  During a demonstration flight, a U.S. Army fly...   \n",
       "1      0.0  First U.S. dirigible Akron exploded just offsh...   \n",
       "56     0.0  Crashed while making an approach to Le Bourget...   \n",
       "80     0.0  Crashed while on a flight from Toulon, France ...   \n",
       "83     0.0                                                NaN   \n",
       "\n",
       "   Time between crashes             Start                  Destination  \\\n",
       "0                   NaT     Demonstration                         None   \n",
       "1             1394 days       Test flight                         None   \n",
       "56              13 days         Varsovie                   Strasbourg    \n",
       "80              17 days           Toulon                       Algiers   \n",
       "83              48 days  Lympne, England    Rotterdam, The Netherlands   \n",
       "\n",
       "         2     3     4     5  \n",
       "0     None  None  None  None  \n",
       "1     None  None  None  None  \n",
       "56   Paris  None  None  None  \n",
       "80    None  None  None  None  \n",
       "83    None  None  None  None  "
      ]
     },
     "execution_count": 14,
     "metadata": {},
     "output_type": "execute_result"
    }
   ],
   "source": [
    "#create an empty list to store the separated column values in:\n",
    "route = []\n",
    "route.append(df.Route.str.split(\"-\",expand=True))\n",
    "    \n",
    "# create a new dataframe:\n",
    "route = route[0]\n",
    "print(route.shape)\n",
    "print(df.shape)\n",
    "#as both dataframes have the same no. of rows we can safely merge them:\n",
    "flights = pd.concat([df, route], axis=1)\n",
    "# rename the new columns:\n",
    "flights.rename(columns={0:\"Start\",1:\"Destination\"},inplace=True)\n",
    "flights.head()"
   ]
  },
  {
   "cell_type": "code",
   "execution_count": 15,
   "metadata": {},
   "outputs": [
    {
     "data": {
      "text/html": [
       "<div>\n",
       "<style scoped>\n",
       "    .dataframe tbody tr th:only-of-type {\n",
       "        vertical-align: middle;\n",
       "    }\n",
       "\n",
       "    .dataframe tbody tr th {\n",
       "        vertical-align: top;\n",
       "    }\n",
       "\n",
       "    .dataframe thead th {\n",
       "        text-align: right;\n",
       "    }\n",
       "</style>\n",
       "<table border=\"1\" class=\"dataframe\">\n",
       "  <thead>\n",
       "    <tr style=\"text-align: right;\">\n",
       "      <th></th>\n",
       "      <th>Start</th>\n",
       "      <th>Destination</th>\n",
       "    </tr>\n",
       "  </thead>\n",
       "  <tbody>\n",
       "    <tr>\n",
       "      <th>0</th>\n",
       "      <td>Demonstration</td>\n",
       "      <td>None</td>\n",
       "    </tr>\n",
       "    <tr>\n",
       "      <th>1</th>\n",
       "      <td>Test flight</td>\n",
       "      <td>None</td>\n",
       "    </tr>\n",
       "    <tr>\n",
       "      <th>56</th>\n",
       "      <td>Varsovie</td>\n",
       "      <td>Strasbourg</td>\n",
       "    </tr>\n",
       "    <tr>\n",
       "      <th>80</th>\n",
       "      <td>Toulon</td>\n",
       "      <td>Algiers</td>\n",
       "    </tr>\n",
       "    <tr>\n",
       "      <th>83</th>\n",
       "      <td>Lympne, England</td>\n",
       "      <td>Rotterdam, The Netherlands</td>\n",
       "    </tr>\n",
       "  </tbody>\n",
       "</table>\n",
       "</div>"
      ],
      "text/plain": [
       "               Start                  Destination\n",
       "0      Demonstration                         None\n",
       "1        Test flight                         None\n",
       "56         Varsovie                   Strasbourg \n",
       "80           Toulon                       Algiers\n",
       "83  Lympne, England    Rotterdam, The Netherlands"
      ]
     },
     "execution_count": 15,
     "metadata": {},
     "output_type": "execute_result"
    }
   ],
   "source": [
    "# move Values (if there are any) from columns 2 - 5 to the Destination col:\n",
    "flights.Destination.fillna(value=flights[2],inplace=True)\n",
    "flights.Destination.isnull().sum() \n",
    "\n",
    "flights.Destination.fillna(value=flights[3],inplace=True)\n",
    "flights.Destination.isnull().sum() \n",
    "\n",
    "flights.Destination.fillna(value=flights[4],inplace=True)\n",
    "flights.Destination.isnull().sum() \n",
    "\n",
    "flights.Destination.fillna(value=flights[5],inplace=True)\n",
    "flights.Destination.isnull().sum() \n",
    "\n",
    "flights[[\"Start\",\"Destination\"]].head()"
   ]
  },
  {
   "cell_type": "code",
   "execution_count": 16,
   "metadata": {},
   "outputs": [
    {
     "data": {
      "text/plain": [
       "200"
      ]
     },
     "execution_count": 16,
     "metadata": {},
     "output_type": "execute_result"
    }
   ],
   "source": [
    "# checking left-over null values:\n",
    "flights.Destination.isnull().sum()"
   ]
  },
  {
   "cell_type": "markdown",
   "metadata": {},
   "source": [
    "## these are the 200 rows we earlier identified as not using `-` as delimiter, thus not having a \"from - to\" route"
   ]
  },
  {
   "cell_type": "code",
   "execution_count": 17,
   "metadata": {},
   "outputs": [
    {
     "data": {
      "text/html": [
       "<div>\n",
       "<style scoped>\n",
       "    .dataframe tbody tr th:only-of-type {\n",
       "        vertical-align: middle;\n",
       "    }\n",
       "\n",
       "    .dataframe tbody tr th {\n",
       "        vertical-align: top;\n",
       "    }\n",
       "\n",
       "    .dataframe thead th {\n",
       "        text-align: right;\n",
       "    }\n",
       "</style>\n",
       "<table border=\"1\" class=\"dataframe\">\n",
       "  <thead>\n",
       "    <tr style=\"text-align: right;\">\n",
       "      <th></th>\n",
       "      <th>Date</th>\n",
       "      <th>Time</th>\n",
       "      <th>Location</th>\n",
       "      <th>Operator</th>\n",
       "      <th>Flight #</th>\n",
       "      <th>Route</th>\n",
       "      <th>Type</th>\n",
       "      <th>Registration</th>\n",
       "      <th>cn/In</th>\n",
       "      <th>Aboard</th>\n",
       "      <th>Fatalities</th>\n",
       "      <th>Ground</th>\n",
       "      <th>Summary</th>\n",
       "      <th>Time between crashes</th>\n",
       "      <th>Start</th>\n",
       "      <th>Destination</th>\n",
       "      <th>2</th>\n",
       "      <th>3</th>\n",
       "      <th>4</th>\n",
       "      <th>5</th>\n",
       "    </tr>\n",
       "  </thead>\n",
       "  <tbody>\n",
       "    <tr>\n",
       "      <th>0</th>\n",
       "      <td>1908-09-17</td>\n",
       "      <td>17:18</td>\n",
       "      <td>Fort Myer, Virginia</td>\n",
       "      <td>Military - U.S. Army</td>\n",
       "      <td>NaN</td>\n",
       "      <td>Demonstration</td>\n",
       "      <td>Wright Flyer III</td>\n",
       "      <td>NaN</td>\n",
       "      <td>1</td>\n",
       "      <td>2.0</td>\n",
       "      <td>1.0</td>\n",
       "      <td>0.0</td>\n",
       "      <td>During a demonstration flight, a U.S. Army fly...</td>\n",
       "      <td>NaT</td>\n",
       "      <td>Demonstration</td>\n",
       "      <td>None</td>\n",
       "      <td>None</td>\n",
       "      <td>None</td>\n",
       "      <td>None</td>\n",
       "      <td>None</td>\n",
       "    </tr>\n",
       "    <tr>\n",
       "      <th>1</th>\n",
       "      <td>1912-07-12</td>\n",
       "      <td>06:30</td>\n",
       "      <td>AtlantiCity, New Jersey</td>\n",
       "      <td>Military - U.S. Navy</td>\n",
       "      <td>NaN</td>\n",
       "      <td>Test flight</td>\n",
       "      <td>Dirigible</td>\n",
       "      <td>NaN</td>\n",
       "      <td>NaN</td>\n",
       "      <td>5.0</td>\n",
       "      <td>5.0</td>\n",
       "      <td>0.0</td>\n",
       "      <td>First U.S. dirigible Akron exploded just offsh...</td>\n",
       "      <td>1394 days</td>\n",
       "      <td>Test flight</td>\n",
       "      <td>None</td>\n",
       "      <td>None</td>\n",
       "      <td>None</td>\n",
       "      <td>None</td>\n",
       "      <td>None</td>\n",
       "    </tr>\n",
       "    <tr>\n",
       "      <th>121</th>\n",
       "      <td>1927-09-17</td>\n",
       "      <td>NaN</td>\n",
       "      <td>Hadley, New Jersey</td>\n",
       "      <td>Reynolds Airways</td>\n",
       "      <td>NaN</td>\n",
       "      <td>Sightseeing</td>\n",
       "      <td>Fokker F-VII</td>\n",
       "      <td>NC776</td>\n",
       "      <td>4840</td>\n",
       "      <td>12.0</td>\n",
       "      <td>7.0</td>\n",
       "      <td>0.0</td>\n",
       "      <td>The sightseeing plane took off and rose to 400...</td>\n",
       "      <td>14 days</td>\n",
       "      <td>Sightseeing</td>\n",
       "      <td>None</td>\n",
       "      <td>None</td>\n",
       "      <td>None</td>\n",
       "      <td>None</td>\n",
       "      <td>None</td>\n",
       "    </tr>\n",
       "    <tr>\n",
       "      <th>148</th>\n",
       "      <td>1928-07-13</td>\n",
       "      <td>NaN</td>\n",
       "      <td>Purley, England</td>\n",
       "      <td>Imperial Airways</td>\n",
       "      <td>NaN</td>\n",
       "      <td>Testing</td>\n",
       "      <td>Vickers 74 Vulcan</td>\n",
       "      <td>G-EBLB</td>\n",
       "      <td>9</td>\n",
       "      <td>4.0</td>\n",
       "      <td>4.0</td>\n",
       "      <td>0.0</td>\n",
       "      <td>Crashed to the ground shortly after taking off...</td>\n",
       "      <td>3 days</td>\n",
       "      <td>Testing</td>\n",
       "      <td>None</td>\n",
       "      <td>None</td>\n",
       "      <td>None</td>\n",
       "      <td>None</td>\n",
       "      <td>None</td>\n",
       "    </tr>\n",
       "    <tr>\n",
       "      <th>174</th>\n",
       "      <td>1929-03-17</td>\n",
       "      <td>NaN</td>\n",
       "      <td>Newark, New Jersey</td>\n",
       "      <td>Colonial Western Airlines</td>\n",
       "      <td>NaN</td>\n",
       "      <td>Sightseeing</td>\n",
       "      <td>Ford 5-AT-B Tri Motor</td>\n",
       "      <td>NC7683</td>\n",
       "      <td>4-AT-41</td>\n",
       "      <td>15.0</td>\n",
       "      <td>14.0</td>\n",
       "      <td>0.0</td>\n",
       "      <td>The plane was making the last of a number of s...</td>\n",
       "      <td>45 days</td>\n",
       "      <td>Sightseeing</td>\n",
       "      <td>None</td>\n",
       "      <td>None</td>\n",
       "      <td>None</td>\n",
       "      <td>None</td>\n",
       "      <td>None</td>\n",
       "    </tr>\n",
       "  </tbody>\n",
       "</table>\n",
       "</div>"
      ],
      "text/plain": [
       "          Date   Time                 Location                   Operator  \\\n",
       "0   1908-09-17  17:18      Fort Myer, Virginia       Military - U.S. Army   \n",
       "1   1912-07-12  06:30  AtlantiCity, New Jersey       Military - U.S. Navy   \n",
       "121 1927-09-17    NaN       Hadley, New Jersey           Reynolds Airways   \n",
       "148 1928-07-13    NaN          Purley, England           Imperial Airways   \n",
       "174 1929-03-17    NaN       Newark, New Jersey  Colonial Western Airlines   \n",
       "\n",
       "    Flight #          Route                   Type Registration    cn/In  \\\n",
       "0        NaN  Demonstration       Wright Flyer III          NaN        1   \n",
       "1        NaN    Test flight              Dirigible          NaN      NaN   \n",
       "121      NaN    Sightseeing           Fokker F-VII        NC776     4840   \n",
       "148      NaN        Testing      Vickers 74 Vulcan       G-EBLB        9   \n",
       "174      NaN    Sightseeing  Ford 5-AT-B Tri Motor       NC7683  4-AT-41   \n",
       "\n",
       "     Aboard  Fatalities  Ground  \\\n",
       "0       2.0         1.0     0.0   \n",
       "1       5.0         5.0     0.0   \n",
       "121    12.0         7.0     0.0   \n",
       "148     4.0         4.0     0.0   \n",
       "174    15.0        14.0     0.0   \n",
       "\n",
       "                                               Summary Time between crashes  \\\n",
       "0    During a demonstration flight, a U.S. Army fly...                  NaT   \n",
       "1    First U.S. dirigible Akron exploded just offsh...            1394 days   \n",
       "121  The sightseeing plane took off and rose to 400...              14 days   \n",
       "148  Crashed to the ground shortly after taking off...               3 days   \n",
       "174  The plane was making the last of a number of s...              45 days   \n",
       "\n",
       "             Start Destination     2     3     4     5  \n",
       "0    Demonstration        None  None  None  None  None  \n",
       "1      Test flight        None  None  None  None  None  \n",
       "121    Sightseeing        None  None  None  None  None  \n",
       "148        Testing        None  None  None  None  None  \n",
       "174    Sightseeing        None  None  None  None  None  "
      ]
     },
     "execution_count": 17,
     "metadata": {},
     "output_type": "execute_result"
    }
   ],
   "source": [
    "flights[flights.Destination.isnull()].head()"
   ]
  },
  {
   "cell_type": "markdown",
   "metadata": {},
   "source": [
    "### we can now drop columns 2,3 and 4"
   ]
  },
  {
   "cell_type": "code",
   "execution_count": 18,
   "metadata": {},
   "outputs": [],
   "source": [
    "flights.drop(columns=[2,3,4,5], inplace=True)"
   ]
  },
  {
   "cell_type": "code",
   "execution_count": 19,
   "metadata": {},
   "outputs": [
    {
     "data": {
      "text/html": [
       "<div>\n",
       "<style scoped>\n",
       "    .dataframe tbody tr th:only-of-type {\n",
       "        vertical-align: middle;\n",
       "    }\n",
       "\n",
       "    .dataframe tbody tr th {\n",
       "        vertical-align: top;\n",
       "    }\n",
       "\n",
       "    .dataframe thead th {\n",
       "        text-align: right;\n",
       "    }\n",
       "</style>\n",
       "<table border=\"1\" class=\"dataframe\">\n",
       "  <thead>\n",
       "    <tr style=\"text-align: right;\">\n",
       "      <th></th>\n",
       "      <th>Date</th>\n",
       "      <th>Time</th>\n",
       "      <th>Location</th>\n",
       "      <th>Operator</th>\n",
       "      <th>Flight #</th>\n",
       "      <th>Route</th>\n",
       "      <th>Type</th>\n",
       "      <th>Registration</th>\n",
       "      <th>cn/In</th>\n",
       "      <th>Aboard</th>\n",
       "      <th>Fatalities</th>\n",
       "      <th>Ground</th>\n",
       "      <th>Summary</th>\n",
       "      <th>Time between crashes</th>\n",
       "      <th>Start</th>\n",
       "      <th>Destination</th>\n",
       "    </tr>\n",
       "  </thead>\n",
       "  <tbody>\n",
       "    <tr>\n",
       "      <th>0</th>\n",
       "      <td>1908-09-17</td>\n",
       "      <td>17:18</td>\n",
       "      <td>Fort Myer, Virginia</td>\n",
       "      <td>Military - U.S. Army</td>\n",
       "      <td>NaN</td>\n",
       "      <td>Demonstration</td>\n",
       "      <td>Wright Flyer III</td>\n",
       "      <td>NaN</td>\n",
       "      <td>1</td>\n",
       "      <td>2.0</td>\n",
       "      <td>1.0</td>\n",
       "      <td>0.0</td>\n",
       "      <td>During a demonstration flight, a U.S. Army fly...</td>\n",
       "      <td>NaT</td>\n",
       "      <td>Demonstration</td>\n",
       "      <td>None</td>\n",
       "    </tr>\n",
       "    <tr>\n",
       "      <th>1</th>\n",
       "      <td>1912-07-12</td>\n",
       "      <td>06:30</td>\n",
       "      <td>AtlantiCity, New Jersey</td>\n",
       "      <td>Military - U.S. Navy</td>\n",
       "      <td>NaN</td>\n",
       "      <td>Test flight</td>\n",
       "      <td>Dirigible</td>\n",
       "      <td>NaN</td>\n",
       "      <td>NaN</td>\n",
       "      <td>5.0</td>\n",
       "      <td>5.0</td>\n",
       "      <td>0.0</td>\n",
       "      <td>First U.S. dirigible Akron exploded just offsh...</td>\n",
       "      <td>1394 days</td>\n",
       "      <td>Test flight</td>\n",
       "      <td>None</td>\n",
       "    </tr>\n",
       "    <tr>\n",
       "      <th>56</th>\n",
       "      <td>1921-09-06</td>\n",
       "      <td>NaN</td>\n",
       "      <td>Paris, France</td>\n",
       "      <td>Franco-Roumaine</td>\n",
       "      <td>NaN</td>\n",
       "      <td>Varsovie - Strasbourg - Paris</td>\n",
       "      <td>Potez IX</td>\n",
       "      <td>F-ADCD</td>\n",
       "      <td>160</td>\n",
       "      <td>5.0</td>\n",
       "      <td>5.0</td>\n",
       "      <td>0.0</td>\n",
       "      <td>Crashed while making an approach to Le Bourget...</td>\n",
       "      <td>13 days</td>\n",
       "      <td>Varsovie</td>\n",
       "      <td>Strasbourg</td>\n",
       "    </tr>\n",
       "    <tr>\n",
       "      <th>80</th>\n",
       "      <td>1923-12-23</td>\n",
       "      <td>02:30</td>\n",
       "      <td>Over the Mediterranean Sea</td>\n",
       "      <td>Military - French Navy</td>\n",
       "      <td>NaN</td>\n",
       "      <td>Toulon - Algiers</td>\n",
       "      <td>Zeppelin Dixmunde (airship)</td>\n",
       "      <td>L-72</td>\n",
       "      <td>NaN</td>\n",
       "      <td>52.0</td>\n",
       "      <td>52.0</td>\n",
       "      <td>0.0</td>\n",
       "      <td>Crashed while on a flight from Toulon, France ...</td>\n",
       "      <td>17 days</td>\n",
       "      <td>Toulon</td>\n",
       "      <td>Algiers</td>\n",
       "    </tr>\n",
       "    <tr>\n",
       "      <th>83</th>\n",
       "      <td>1924-04-24</td>\n",
       "      <td>NaN</td>\n",
       "      <td>Over the English Channel</td>\n",
       "      <td>KLM Royal Dutch Airlines</td>\n",
       "      <td>NaN</td>\n",
       "      <td>Lympne, England - Rotterdam, The Netherlands</td>\n",
       "      <td>Fokker F.III</td>\n",
       "      <td>H-NABS</td>\n",
       "      <td>1535</td>\n",
       "      <td>3.0</td>\n",
       "      <td>3.0</td>\n",
       "      <td>0.0</td>\n",
       "      <td>NaN</td>\n",
       "      <td>48 days</td>\n",
       "      <td>Lympne, England</td>\n",
       "      <td>Rotterdam, The Netherlands</td>\n",
       "    </tr>\n",
       "  </tbody>\n",
       "</table>\n",
       "</div>"
      ],
      "text/plain": [
       "         Date   Time                    Location                  Operator  \\\n",
       "0  1908-09-17  17:18         Fort Myer, Virginia      Military - U.S. Army   \n",
       "1  1912-07-12  06:30     AtlantiCity, New Jersey      Military - U.S. Navy   \n",
       "56 1921-09-06    NaN               Paris, France           Franco-Roumaine   \n",
       "80 1923-12-23  02:30  Over the Mediterranean Sea    Military - French Navy   \n",
       "83 1924-04-24    NaN    Over the English Channel  KLM Royal Dutch Airlines   \n",
       "\n",
       "   Flight #                                         Route  \\\n",
       "0       NaN                                 Demonstration   \n",
       "1       NaN                                   Test flight   \n",
       "56      NaN                 Varsovie - Strasbourg - Paris   \n",
       "80      NaN                              Toulon - Algiers   \n",
       "83      NaN  Lympne, England - Rotterdam, The Netherlands   \n",
       "\n",
       "                           Type Registration cn/In  Aboard  Fatalities  \\\n",
       "0              Wright Flyer III          NaN     1     2.0         1.0   \n",
       "1                     Dirigible          NaN   NaN     5.0         5.0   \n",
       "56                     Potez IX       F-ADCD   160     5.0         5.0   \n",
       "80  Zeppelin Dixmunde (airship)         L-72   NaN    52.0        52.0   \n",
       "83                 Fokker F.III       H-NABS  1535     3.0         3.0   \n",
       "\n",
       "    Ground                                            Summary  \\\n",
       "0      0.0  During a demonstration flight, a U.S. Army fly...   \n",
       "1      0.0  First U.S. dirigible Akron exploded just offsh...   \n",
       "56     0.0  Crashed while making an approach to Le Bourget...   \n",
       "80     0.0  Crashed while on a flight from Toulon, France ...   \n",
       "83     0.0                                                NaN   \n",
       "\n",
       "   Time between crashes             Start                  Destination  \n",
       "0                   NaT     Demonstration                         None  \n",
       "1             1394 days       Test flight                         None  \n",
       "56              13 days         Varsovie                   Strasbourg   \n",
       "80              17 days           Toulon                       Algiers  \n",
       "83              48 days  Lympne, England    Rotterdam, The Netherlands  "
      ]
     },
     "execution_count": 19,
     "metadata": {},
     "output_type": "execute_result"
    }
   ],
   "source": [
    "flights.head()"
   ]
  },
  {
   "cell_type": "markdown",
   "metadata": {},
   "source": [
    "# 3.2: what´s the most common weekday for crashes?"
   ]
  },
  {
   "cell_type": "code",
   "execution_count": 20,
   "metadata": {},
   "outputs": [
    {
     "data": {
      "text/plain": [
       "3    551\n",
       "4    551\n",
       "2    551\n",
       "1    515\n",
       "5    509\n",
       "0    478\n",
       "6    407\n",
       "Name: Date, dtype: int64"
      ]
     },
     "execution_count": 20,
     "metadata": {},
     "output_type": "execute_result"
    }
   ],
   "source": [
    "flights.Date.dt.weekday.value_counts(sort=True, ascending=False)"
   ]
  },
  {
   "cell_type": "markdown",
   "metadata": {},
   "source": [
    "## most crashes happen on Wednesdays,Thursdays and Fridays"
   ]
  },
  {
   "cell_type": "markdown",
   "metadata": {},
   "source": [
    "# 4.1: on avg. how many passengers survive a crash (if any)? Create a new column called `survival rate`"
   ]
  },
  {
   "cell_type": "code",
   "execution_count": 21,
   "metadata": {},
   "outputs": [
    {
     "data": {
      "text/html": [
       "<div>\n",
       "<style scoped>\n",
       "    .dataframe tbody tr th:only-of-type {\n",
       "        vertical-align: middle;\n",
       "    }\n",
       "\n",
       "    .dataframe tbody tr th {\n",
       "        vertical-align: top;\n",
       "    }\n",
       "\n",
       "    .dataframe thead th {\n",
       "        text-align: right;\n",
       "    }\n",
       "</style>\n",
       "<table border=\"1\" class=\"dataframe\">\n",
       "  <thead>\n",
       "    <tr style=\"text-align: right;\">\n",
       "      <th></th>\n",
       "      <th>Aboard</th>\n",
       "      <th>Fatalities</th>\n",
       "    </tr>\n",
       "  </thead>\n",
       "  <tbody>\n",
       "    <tr>\n",
       "      <th>count</th>\n",
       "      <td>3557.000000</td>\n",
       "      <td>3560.000000</td>\n",
       "    </tr>\n",
       "    <tr>\n",
       "      <th>mean</th>\n",
       "      <td>33.093337</td>\n",
       "      <td>23.529494</td>\n",
       "    </tr>\n",
       "    <tr>\n",
       "      <th>std</th>\n",
       "      <td>49.516421</td>\n",
       "      <td>38.046322</td>\n",
       "    </tr>\n",
       "    <tr>\n",
       "      <th>min</th>\n",
       "      <td>1.000000</td>\n",
       "      <td>0.000000</td>\n",
       "    </tr>\n",
       "    <tr>\n",
       "      <th>25%</th>\n",
       "      <td>6.000000</td>\n",
       "      <td>3.000000</td>\n",
       "    </tr>\n",
       "    <tr>\n",
       "      <th>50%</th>\n",
       "      <td>16.000000</td>\n",
       "      <td>10.000000</td>\n",
       "    </tr>\n",
       "    <tr>\n",
       "      <th>75%</th>\n",
       "      <td>38.000000</td>\n",
       "      <td>26.000000</td>\n",
       "    </tr>\n",
       "    <tr>\n",
       "      <th>max</th>\n",
       "      <td>644.000000</td>\n",
       "      <td>583.000000</td>\n",
       "    </tr>\n",
       "  </tbody>\n",
       "</table>\n",
       "</div>"
      ],
      "text/plain": [
       "            Aboard   Fatalities\n",
       "count  3557.000000  3560.000000\n",
       "mean     33.093337    23.529494\n",
       "std      49.516421    38.046322\n",
       "min       1.000000     0.000000\n",
       "25%       6.000000     3.000000\n",
       "50%      16.000000    10.000000\n",
       "75%      38.000000    26.000000\n",
       "max     644.000000   583.000000"
      ]
     },
     "execution_count": 21,
     "metadata": {},
     "output_type": "execute_result"
    }
   ],
   "source": [
    "flights[[\"Aboard\", \"Fatalities\"]].describe()"
   ]
  },
  {
   "cell_type": "code",
   "execution_count": 22,
   "metadata": {},
   "outputs": [],
   "source": [
    "flights[\"survival rate\"] = 1-(flights.Fatalities/flights.Aboard)"
   ]
  },
  {
   "cell_type": "code",
   "execution_count": 23,
   "metadata": {},
   "outputs": [
    {
     "data": {
      "text/plain": [
       "17.791031958517628"
      ]
     },
     "execution_count": 23,
     "metadata": {},
     "output_type": "execute_result"
    }
   ],
   "source": [
    "flights[\"survival rate\"].mean()*100"
   ]
  },
  {
   "cell_type": "markdown",
   "metadata": {},
   "source": [
    "## the average survival rate is 17.79%"
   ]
  },
  {
   "cell_type": "markdown",
   "metadata": {},
   "source": [
    "# Bonus\n",
    "## - What were the most common causes for crashes? Could be extraced from the Summarycolumn (e.g. most common words)"
   ]
  },
  {
   "cell_type": "code",
   "execution_count": null,
   "metadata": {},
   "outputs": [],
   "source": []
  },
  {
   "cell_type": "code",
   "execution_count": 24,
   "metadata": {},
   "outputs": [],
   "source": [
    "# split all the paragraphs of a column into a list of words:\n",
    "#word_list = flights.Summary.str.split()\n",
    "\n",
    "# the list contains integers, we need to remove them or else the counter will throw an error:\n",
    "#no_integers = [x for x in word_list if not isinstance(x, float)]\n",
    "\n",
    "# flatten the list of lists:\n",
    "#flat_list = []\n",
    "#for sublist in no_integers:\n",
    "#    str(sublist)\n",
    "#    flat_list.append(sublist)     "
   ]
  },
  {
   "cell_type": "code",
   "execution_count": 25,
   "metadata": {},
   "outputs": [],
   "source": [
    "# Pass the flat_it list to instance of Counter class. \n",
    "#count_dict = {}\n",
    "#for item in flat_list:\n",
    " #   zahler = Counter(item)\n",
    "  #  count_dict[zahler] = item\n",
    "# most_common() produces k frequently encountered \n",
    "# input values and their respective counts. \n",
    "#most_occur = count_dict.most_common(100) \n",
    "  \n",
    "#len(most_occur)"
   ]
  },
  {
   "cell_type": "code",
   "execution_count": null,
   "metadata": {},
   "outputs": [],
   "source": []
  }
 ],
 "metadata": {
  "kernelspec": {
   "display_name": "Python 3",
   "language": "python",
   "name": "python3"
  },
  "language_info": {
   "codemirror_mode": {
    "name": "ipython",
    "version": 3
   },
   "file_extension": ".py",
   "mimetype": "text/x-python",
   "name": "python",
   "nbconvert_exporter": "python",
   "pygments_lexer": "ipython3",
   "version": "3.6.6"
  }
 },
 "nbformat": 4,
 "nbformat_minor": 1
}
